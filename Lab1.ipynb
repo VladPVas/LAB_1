{
  "nbformat": 4,
  "nbformat_minor": 0,
  "metadata": {
    "colab": {
      "name": "Lab1.ipynb",
      "provenance": [],
      "collapsed_sections": []
    },
    "kernelspec": {
      "name": "python3",
      "display_name": "Python 3"
    }
  },
  "cells": [
    {
      "cell_type": "code",
      "metadata": {
        "id": "DdhKDHu8MzPI",
        "outputId": "b5acfe3d-3207-41ac-b367-ad49bd21e71b",
        "colab": {
          "base_uri": "https://localhost:8080/",
          "height": 34
        }
      },
      "source": [
        "#1\n",
        "mass = [\"a\",\"b\",\"c\",\"d\",\"e\",\"a\",\"a\",\"b\",\"c\"]\n",
        "print({el:[i for i in range(len(mass)) if mass[i] == el] for el in set(mass)})"
      ],
      "execution_count": 1,
      "outputs": [
        {
          "output_type": "stream",
          "text": [
            "{'d': [3], 'a': [0, 5, 6], 'c': [2, 8], 'e': [4], 'b': [1, 7]}\n"
          ],
          "name": "stdout"
        }
      ]
    },
    {
      "cell_type": "code",
      "metadata": {
        "id": "A_3ZmpEcNmgD"
      },
      "source": [
        "#4\n",
        "import json\n",
        "import csv\n",
        "with open(\"sales.json\") as file: data = json.load(file)\n",
        "\n",
        "r = []\n",
        "\n",
        "for item in data:\n",
        "    for country in item[\"sales_by_country\"]:\n",
        "        for year in item[\"sales_by_country\"][country]:\n",
        "            r.append([ item['item'], country, year, item[\"sales_by_country\"][country][year] ])\n",
        "\n",
        "with open(\"sales.csv\", \"w\") as file:\n",
        "    writer = csv.writer(file)\n",
        "    for row in r:\n",
        "        writer.writerow(row)\n"
      ],
      "execution_count": 4,
      "outputs": []
    }
  ]
}